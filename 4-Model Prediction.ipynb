{
 "cells": [
  {
   "cell_type": "markdown",
   "metadata": {},
   "source": [
    "# **Loan Default Prediction**"
   ]
  },
  {
   "cell_type": "markdown",
   "metadata": {},
   "source": [
    "## Import Modules"
   ]
  },
  {
   "cell_type": "code",
   "execution_count": 1,
   "metadata": {},
   "outputs": [],
   "source": [
    "import numpy as np\n",
    "import pandas as pd\n",
    "\n",
    "from sklearn.base import BaseEstimator, TransformerMixin\n",
    "from sklearn.model_selection import train_test_split, GridSearchCV, StratifiedKFold, RandomizedSearchCV\n",
    "from sklearn.preprocessing import OrdinalEncoder, OneHotEncoder, StandardScaler\n",
    "from sklearn.ensemble import RandomForestClassifier, GradientBoostingClassifier\n",
    "from sklearn.linear_model import LogisticRegression\n",
    "from sklearn.pipeline import Pipeline"
   ]
  },
  {
   "cell_type": "markdown",
   "metadata": {},
   "source": [
    "## Load The Data"
   ]
  },
  {
   "cell_type": "code",
   "execution_count": 2,
   "metadata": {},
   "outputs": [],
   "source": [
    "train_df = pd.read_csv(\"data/train.csv\")\n",
    "test_df = pd.read_csv(\"data/test.csv\")"
   ]
  },
  {
   "cell_type": "code",
   "execution_count": 3,
   "metadata": {},
   "outputs": [
    {
     "data": {
      "text/html": [
       "<div>\n",
       "<style scoped>\n",
       "    .dataframe tbody tr th:only-of-type {\n",
       "        vertical-align: middle;\n",
       "    }\n",
       "\n",
       "    .dataframe tbody tr th {\n",
       "        vertical-align: top;\n",
       "    }\n",
       "\n",
       "    .dataframe thead th {\n",
       "        text-align: right;\n",
       "    }\n",
       "</style>\n",
       "<table border=\"1\" class=\"dataframe\">\n",
       "  <thead>\n",
       "    <tr style=\"text-align: right;\">\n",
       "      <th></th>\n",
       "      <th>LoanID</th>\n",
       "      <th>Age</th>\n",
       "      <th>Income</th>\n",
       "      <th>LoanAmount</th>\n",
       "      <th>CreditScore</th>\n",
       "      <th>MonthsEmployed</th>\n",
       "      <th>NumCreditLines</th>\n",
       "      <th>InterestRate</th>\n",
       "      <th>LoanTerm</th>\n",
       "      <th>DTIRatio</th>\n",
       "      <th>Education</th>\n",
       "      <th>EmploymentType</th>\n",
       "      <th>MaritalStatus</th>\n",
       "      <th>HasMortgage</th>\n",
       "      <th>HasDependents</th>\n",
       "      <th>LoanPurpose</th>\n",
       "      <th>HasCoSigner</th>\n",
       "      <th>Default</th>\n",
       "    </tr>\n",
       "  </thead>\n",
       "  <tbody>\n",
       "    <tr>\n",
       "      <th>0</th>\n",
       "      <td>I38PQUQS96</td>\n",
       "      <td>56</td>\n",
       "      <td>85994</td>\n",
       "      <td>50587</td>\n",
       "      <td>520</td>\n",
       "      <td>80</td>\n",
       "      <td>4</td>\n",
       "      <td>15.23</td>\n",
       "      <td>36</td>\n",
       "      <td>0.44</td>\n",
       "      <td>Bachelor's</td>\n",
       "      <td>Full-time</td>\n",
       "      <td>Divorced</td>\n",
       "      <td>Yes</td>\n",
       "      <td>Yes</td>\n",
       "      <td>Other</td>\n",
       "      <td>Yes</td>\n",
       "      <td>0</td>\n",
       "    </tr>\n",
       "    <tr>\n",
       "      <th>1</th>\n",
       "      <td>HPSK72WA7R</td>\n",
       "      <td>69</td>\n",
       "      <td>50432</td>\n",
       "      <td>124440</td>\n",
       "      <td>458</td>\n",
       "      <td>15</td>\n",
       "      <td>1</td>\n",
       "      <td>4.81</td>\n",
       "      <td>60</td>\n",
       "      <td>0.68</td>\n",
       "      <td>Master's</td>\n",
       "      <td>Full-time</td>\n",
       "      <td>Married</td>\n",
       "      <td>No</td>\n",
       "      <td>No</td>\n",
       "      <td>Other</td>\n",
       "      <td>Yes</td>\n",
       "      <td>0</td>\n",
       "    </tr>\n",
       "    <tr>\n",
       "      <th>2</th>\n",
       "      <td>C1OZ6DPJ8Y</td>\n",
       "      <td>46</td>\n",
       "      <td>84208</td>\n",
       "      <td>129188</td>\n",
       "      <td>451</td>\n",
       "      <td>26</td>\n",
       "      <td>3</td>\n",
       "      <td>21.17</td>\n",
       "      <td>24</td>\n",
       "      <td>0.31</td>\n",
       "      <td>Master's</td>\n",
       "      <td>Unemployed</td>\n",
       "      <td>Divorced</td>\n",
       "      <td>Yes</td>\n",
       "      <td>Yes</td>\n",
       "      <td>Auto</td>\n",
       "      <td>No</td>\n",
       "      <td>1</td>\n",
       "    </tr>\n",
       "    <tr>\n",
       "      <th>3</th>\n",
       "      <td>V2KKSFM3UN</td>\n",
       "      <td>32</td>\n",
       "      <td>31713</td>\n",
       "      <td>44799</td>\n",
       "      <td>743</td>\n",
       "      <td>0</td>\n",
       "      <td>3</td>\n",
       "      <td>7.07</td>\n",
       "      <td>24</td>\n",
       "      <td>0.23</td>\n",
       "      <td>High School</td>\n",
       "      <td>Full-time</td>\n",
       "      <td>Married</td>\n",
       "      <td>No</td>\n",
       "      <td>No</td>\n",
       "      <td>Business</td>\n",
       "      <td>No</td>\n",
       "      <td>0</td>\n",
       "    </tr>\n",
       "    <tr>\n",
       "      <th>4</th>\n",
       "      <td>EY08JDHTZP</td>\n",
       "      <td>60</td>\n",
       "      <td>20437</td>\n",
       "      <td>9139</td>\n",
       "      <td>633</td>\n",
       "      <td>8</td>\n",
       "      <td>4</td>\n",
       "      <td>6.51</td>\n",
       "      <td>48</td>\n",
       "      <td>0.73</td>\n",
       "      <td>Bachelor's</td>\n",
       "      <td>Unemployed</td>\n",
       "      <td>Divorced</td>\n",
       "      <td>No</td>\n",
       "      <td>Yes</td>\n",
       "      <td>Auto</td>\n",
       "      <td>No</td>\n",
       "      <td>0</td>\n",
       "    </tr>\n",
       "  </tbody>\n",
       "</table>\n",
       "</div>"
      ],
      "text/plain": [
       "       LoanID  Age  Income  LoanAmount  CreditScore  MonthsEmployed  \\\n",
       "0  I38PQUQS96   56   85994       50587          520              80   \n",
       "1  HPSK72WA7R   69   50432      124440          458              15   \n",
       "2  C1OZ6DPJ8Y   46   84208      129188          451              26   \n",
       "3  V2KKSFM3UN   32   31713       44799          743               0   \n",
       "4  EY08JDHTZP   60   20437        9139          633               8   \n",
       "\n",
       "   NumCreditLines  InterestRate  LoanTerm  DTIRatio    Education  \\\n",
       "0               4         15.23        36      0.44   Bachelor's   \n",
       "1               1          4.81        60      0.68     Master's   \n",
       "2               3         21.17        24      0.31     Master's   \n",
       "3               3          7.07        24      0.23  High School   \n",
       "4               4          6.51        48      0.73   Bachelor's   \n",
       "\n",
       "  EmploymentType MaritalStatus HasMortgage HasDependents LoanPurpose  \\\n",
       "0      Full-time      Divorced         Yes           Yes       Other   \n",
       "1      Full-time       Married          No            No       Other   \n",
       "2     Unemployed      Divorced         Yes           Yes        Auto   \n",
       "3      Full-time       Married          No            No    Business   \n",
       "4     Unemployed      Divorced          No           Yes        Auto   \n",
       "\n",
       "  HasCoSigner  Default  \n",
       "0         Yes        0  \n",
       "1         Yes        0  \n",
       "2          No        1  \n",
       "3          No        0  \n",
       "4          No        0  "
      ]
     },
     "execution_count": 3,
     "metadata": {},
     "output_type": "execute_result"
    }
   ],
   "source": [
    "train_df.head(5)"
   ]
  },
  {
   "cell_type": "code",
   "execution_count": 4,
   "metadata": {},
   "outputs": [
    {
     "data": {
      "text/html": [
       "<div>\n",
       "<style scoped>\n",
       "    .dataframe tbody tr th:only-of-type {\n",
       "        vertical-align: middle;\n",
       "    }\n",
       "\n",
       "    .dataframe tbody tr th {\n",
       "        vertical-align: top;\n",
       "    }\n",
       "\n",
       "    .dataframe thead th {\n",
       "        text-align: right;\n",
       "    }\n",
       "</style>\n",
       "<table border=\"1\" class=\"dataframe\">\n",
       "  <thead>\n",
       "    <tr style=\"text-align: right;\">\n",
       "      <th></th>\n",
       "      <th>LoanID</th>\n",
       "      <th>Age</th>\n",
       "      <th>Income</th>\n",
       "      <th>LoanAmount</th>\n",
       "      <th>CreditScore</th>\n",
       "      <th>MonthsEmployed</th>\n",
       "      <th>NumCreditLines</th>\n",
       "      <th>InterestRate</th>\n",
       "      <th>LoanTerm</th>\n",
       "      <th>DTIRatio</th>\n",
       "      <th>Education</th>\n",
       "      <th>EmploymentType</th>\n",
       "      <th>MaritalStatus</th>\n",
       "      <th>HasMortgage</th>\n",
       "      <th>HasDependents</th>\n",
       "      <th>LoanPurpose</th>\n",
       "      <th>HasCoSigner</th>\n",
       "    </tr>\n",
       "  </thead>\n",
       "  <tbody>\n",
       "    <tr>\n",
       "      <th>0</th>\n",
       "      <td>7RYZGMKJIR</td>\n",
       "      <td>32</td>\n",
       "      <td>131645</td>\n",
       "      <td>43797</td>\n",
       "      <td>802</td>\n",
       "      <td>23</td>\n",
       "      <td>2</td>\n",
       "      <td>6.10</td>\n",
       "      <td>24</td>\n",
       "      <td>0.13</td>\n",
       "      <td>High School</td>\n",
       "      <td>Full-time</td>\n",
       "      <td>Divorced</td>\n",
       "      <td>Yes</td>\n",
       "      <td>No</td>\n",
       "      <td>Other</td>\n",
       "      <td>No</td>\n",
       "    </tr>\n",
       "    <tr>\n",
       "      <th>1</th>\n",
       "      <td>JDL5RH07AM</td>\n",
       "      <td>61</td>\n",
       "      <td>134312</td>\n",
       "      <td>18402</td>\n",
       "      <td>369</td>\n",
       "      <td>87</td>\n",
       "      <td>2</td>\n",
       "      <td>12.99</td>\n",
       "      <td>60</td>\n",
       "      <td>0.59</td>\n",
       "      <td>High School</td>\n",
       "      <td>Self-employed</td>\n",
       "      <td>Single</td>\n",
       "      <td>No</td>\n",
       "      <td>No</td>\n",
       "      <td>Business</td>\n",
       "      <td>Yes</td>\n",
       "    </tr>\n",
       "    <tr>\n",
       "      <th>2</th>\n",
       "      <td>STAL716Y79</td>\n",
       "      <td>55</td>\n",
       "      <td>115809</td>\n",
       "      <td>151774</td>\n",
       "      <td>563</td>\n",
       "      <td>3</td>\n",
       "      <td>3</td>\n",
       "      <td>5.51</td>\n",
       "      <td>48</td>\n",
       "      <td>0.82</td>\n",
       "      <td>Bachelor's</td>\n",
       "      <td>Full-time</td>\n",
       "      <td>Single</td>\n",
       "      <td>Yes</td>\n",
       "      <td>Yes</td>\n",
       "      <td>Other</td>\n",
       "      <td>Yes</td>\n",
       "    </tr>\n",
       "    <tr>\n",
       "      <th>3</th>\n",
       "      <td>SO0KKJ3IQB</td>\n",
       "      <td>58</td>\n",
       "      <td>94970</td>\n",
       "      <td>55789</td>\n",
       "      <td>337</td>\n",
       "      <td>24</td>\n",
       "      <td>1</td>\n",
       "      <td>23.93</td>\n",
       "      <td>36</td>\n",
       "      <td>0.77</td>\n",
       "      <td>Bachelor's</td>\n",
       "      <td>Unemployed</td>\n",
       "      <td>Divorced</td>\n",
       "      <td>No</td>\n",
       "      <td>No</td>\n",
       "      <td>Business</td>\n",
       "      <td>No</td>\n",
       "    </tr>\n",
       "    <tr>\n",
       "      <th>4</th>\n",
       "      <td>T99CWTYDCP</td>\n",
       "      <td>63</td>\n",
       "      <td>71727</td>\n",
       "      <td>189798</td>\n",
       "      <td>451</td>\n",
       "      <td>52</td>\n",
       "      <td>3</td>\n",
       "      <td>22.05</td>\n",
       "      <td>48</td>\n",
       "      <td>0.44</td>\n",
       "      <td>PhD</td>\n",
       "      <td>Unemployed</td>\n",
       "      <td>Single</td>\n",
       "      <td>Yes</td>\n",
       "      <td>No</td>\n",
       "      <td>Auto</td>\n",
       "      <td>No</td>\n",
       "    </tr>\n",
       "  </tbody>\n",
       "</table>\n",
       "</div>"
      ],
      "text/plain": [
       "       LoanID  Age  Income  LoanAmount  CreditScore  MonthsEmployed  \\\n",
       "0  7RYZGMKJIR   32  131645       43797          802              23   \n",
       "1  JDL5RH07AM   61  134312       18402          369              87   \n",
       "2  STAL716Y79   55  115809      151774          563               3   \n",
       "3  SO0KKJ3IQB   58   94970       55789          337              24   \n",
       "4  T99CWTYDCP   63   71727      189798          451              52   \n",
       "\n",
       "   NumCreditLines  InterestRate  LoanTerm  DTIRatio    Education  \\\n",
       "0               2          6.10        24      0.13  High School   \n",
       "1               2         12.99        60      0.59  High School   \n",
       "2               3          5.51        48      0.82   Bachelor's   \n",
       "3               1         23.93        36      0.77   Bachelor's   \n",
       "4               3         22.05        48      0.44          PhD   \n",
       "\n",
       "  EmploymentType MaritalStatus HasMortgage HasDependents LoanPurpose  \\\n",
       "0      Full-time      Divorced         Yes            No       Other   \n",
       "1  Self-employed        Single          No            No    Business   \n",
       "2      Full-time        Single         Yes           Yes       Other   \n",
       "3     Unemployed      Divorced          No            No    Business   \n",
       "4     Unemployed        Single         Yes            No        Auto   \n",
       "\n",
       "  HasCoSigner  \n",
       "0          No  \n",
       "1         Yes  \n",
       "2         Yes  \n",
       "3          No  \n",
       "4          No  "
      ]
     },
     "execution_count": 4,
     "metadata": {},
     "output_type": "execute_result"
    }
   ],
   "source": [
    "test_df.head(5)"
   ]
  },
  {
   "cell_type": "markdown",
   "metadata": {},
   "source": [
    "## Train Test Split"
   ]
  },
  {
   "cell_type": "code",
   "execution_count": 5,
   "metadata": {},
   "outputs": [
    {
     "data": {
      "text/plain": [
       "(204277, 16)"
      ]
     },
     "execution_count": 5,
     "metadata": {},
     "output_type": "execute_result"
    }
   ],
   "source": [
    "X = train_df.drop(columns=['LoanID', 'Default'], axis=1)\n",
    "y = train_df['Default']\n",
    "X_test = test_df.drop(columns=['LoanID'], axis=1)\n",
    "\n",
    "X_train, X_valid, y_train, y_valid = train_test_split(X,y,test_size=0.2, stratify=y, random_state=42)\n",
    "\n",
    "X_train.shape"
   ]
  },
  {
   "cell_type": "markdown",
   "metadata": {},
   "source": [
    "## Pipeline"
   ]
  },
  {
   "cell_type": "code",
   "execution_count": 6,
   "metadata": {},
   "outputs": [],
   "source": [
    "education_mapping = {'High School': 1, \"Bachelor's\": 2, \"Master's\": 3, 'PhD': 4}\n",
    "\n",
    "class FeatureEngineetingTransformer(BaseEstimator, TransformerMixin):\n",
    "    def __init__(self):\n",
    "        self.ordinal_columns = ['age_bin', 'credit_score_bin', 'employment_tenure', 'short_long_term', \n",
    "                           'credit_line_category', 'interest_rate_bin', 'dti_bin', 'education_level']\n",
    "        \n",
    "        self.onehot_columns = ['HasMortgage', 'HasDependents', 'HasCoSigner', 'LoanPurpose', 'EmploymentType', 'MaritalStatus']\n",
    "        self.ordinal_encoder = OrdinalEncoder(handle_unknown='use_encoded_value', unknown_value=-1)\n",
    "        self.one_hot_encoder = OneHotEncoder(handle_unknown='ignore', sparse_output=False)\n",
    "\n",
    "    \n",
    "    def create_bins(self, X):\n",
    "        X_copy = X.copy()\n",
    "\n",
    "        # Create binned columns\n",
    "        X_copy['age_bin'] = pd.cut(X_copy['Age'], bins=[18, 30, 50, 100], labels=['Young', 'Middle-aged', 'Senior'])\n",
    "        X_copy['credit_score_bin'] = pd.cut(X_copy['CreditScore'], bins=[300, 579, 669, 739, 850], labels=['Poor', 'Fair', 'Good', 'Excellent'])\n",
    "        X_copy['employment_tenure'] = pd.cut(X_copy['MonthsEmployed'], bins=[0, 12, 60, 1000], labels=['<1 year', '1-5 years', '5+ years'])\n",
    "        X_copy['short_long_term'] = np.where(X_copy['LoanTerm'] <= 36, 'Short Term', 'Long Term')\n",
    "        X_copy['credit_line_category'] = pd.cut(X_copy['NumCreditLines'], bins=[0, 3, 6, 100], labels=['Low', 'Medium', 'High'])\n",
    "        X_copy['interest_rate_bin'] = pd.cut(X_copy['InterestRate'], bins=[0, 5, 10, 100], labels=['Low', 'Medium', 'High'])\n",
    "        X_copy['dti_bin'] = pd.cut(X_copy['DTIRatio'], bins=[0, 0.35, 0.5, 1], labels=['Low', 'Medium', 'High'])\n",
    "        X_copy['education_level'] = X_copy['Education'].map(education_mapping)\n",
    "\n",
    "        return X_copy\n",
    "        \n",
    "    def fit(self, X, y=None):\n",
    "        \n",
    "        X_transformed = X.copy()\n",
    "        X_transformed = self.create_bins(X)\n",
    "        \n",
    "        self.ordinal_encoder.fit(X_transformed[self.ordinal_columns])\n",
    "        self.one_hot_encoder.fit(X_transformed[self.onehot_columns])\n",
    "\n",
    "        return self\n",
    "\n",
    "    def transform(self, X, y=None):\n",
    "        X_copy = X.copy()\n",
    "        X_copy = self.create_bins(X_copy)\n",
    "\n",
    "        X_copy['log_income'] = np.log1p(X_copy['Income'])\n",
    "        X_copy['loan_to_income'] = X_copy['LoanAmount'] / X_copy['Income']\n",
    "\n",
    "        to_encode_ordinal = self.ordinal_encoder.transform(X_copy[self.ordinal_columns])\n",
    "        to_encode_ordinal_df =  pd.DataFrame(to_encode_ordinal, columns=self.ordinal_encoder.get_feature_names_out(), index=X_copy.index)\n",
    "        X_copy = pd.concat([X_copy, to_encode_ordinal_df], axis=1)\n",
    "\n",
    "        one_hot_encoded = self.one_hot_encoder.transform(X_copy[self.onehot_columns])\n",
    "        one_hot_encoded_df = pd.DataFrame(one_hot_encoded, columns=self.one_hot_encoder.get_feature_names_out(), index=X_copy.index)\n",
    "        X_copy = pd.concat([X_copy, one_hot_encoded_df], axis=1)\n",
    "\n",
    "        X_copy['loan_income_dti_interaction'] = X_copy['loan_to_income'] * X_copy['DTIRatio']\n",
    "        X_copy['credit_interest_interaction'] = X_copy['CreditScore'] * X_copy['InterestRate']\n",
    "\n",
    "        columns_to_drop = ['Age', 'Income', 'LoanAmount', 'CreditScore', 'MonthsEmployed', \n",
    "                           'NumCreditLines', 'InterestRate', 'LoanTerm', 'DTIRatio', \n",
    "                           'Education', 'HasMortgage', 'HasDependents', 'HasCoSigner'] + self.ordinal_columns + self.onehot_columns\n",
    "        \n",
    "        X_copy.drop(columns=columns_to_drop, inplace=True)\n",
    "        \n",
    "        return X_copy\n"
   ]
  },
  {
   "cell_type": "markdown",
   "metadata": {},
   "source": [
    "## Model Implementation"
   ]
  },
  {
   "cell_type": "code",
   "execution_count": 7,
   "metadata": {},
   "outputs": [
    {
     "name": "stdout",
     "output_type": "stream",
     "text": [
      "Fitting 3 folds for each of 8 candidates, totalling 24 fits\n",
      "{'lr__C': 0.01, 'lr__max_iter': 25, 'lr__penalty': 'l2', 'lr__solver': 'saga'}\n",
      "Training accuracy: 0.8845831885136359\n",
      "Validation accuracy (Cross-Validation): 0.8845831898021591\n"
     ]
    }
   ],
   "source": [
    "param_grid = {\n",
    "    'lr__C': [0.01, 0.1], \n",
    "    'lr__penalty': ['l2'],  \n",
    "    'lr__solver': ['saga'], \n",
    "    'lr__max_iter': [25, 50, 75, 100] \n",
    "}\n",
    "\n",
    "logRegression = LogisticRegression()\n",
    "\n",
    "pipefinallr = Pipeline(steps=[\n",
    "    ('feature_engineering', FeatureEngineetingTransformer()),\n",
    "    ('scaler', StandardScaler()),\n",
    "    ('lr', logRegression)    \n",
    "])\n",
    "\n",
    "CV_lr = GridSearchCV(estimator=pipefinallr, param_grid=param_grid, cv=StratifiedKFold(n_splits=3), n_jobs=-1,  verbose=1)\n",
    "CV_lr.fit(X_train, y_train)\n",
    "train_score = CV_lr.score(X_train, y_train)\n",
    "\n",
    "print(CV_lr.best_params_)\n",
    "print(\"Training accuracy:\", train_score)\n",
    "print(\"Validation accuracy (Cross-Validation):\", CV_lr.best_score_)"
   ]
  },
  {
   "cell_type": "code",
   "execution_count": 8,
   "metadata": {},
   "outputs": [
    {
     "data": {
      "text/plain": [
       "array([0, 0, 0, ..., 0, 0, 0], dtype=int64)"
      ]
     },
     "execution_count": 8,
     "metadata": {},
     "output_type": "execute_result"
    }
   ],
   "source": [
    "test_predictions_lr = CV_lr.predict(X_test)\n",
    "test_predictions_lr"
   ]
  },
  {
   "cell_type": "code",
   "execution_count": 9,
   "metadata": {},
   "outputs": [
    {
     "name": "stdout",
     "output_type": "stream",
     "text": [
      "Fitting 3 folds for each of 64 candidates, totalling 192 fits\n",
      "{'gb__learning_rate': 0.05, 'gb__max_depth': 7, 'gb__max_features': 'sqrt', 'gb__min_samples_leaf': 4, 'gb__min_samples_split': 2, 'gb__n_estimators': 100, 'gb__subsample': 1.0}\n",
      "Training accuracy: 0.8862671764320016\n",
      "Validation accuracy (Cross-Validation): 0.8843482143124195\n"
     ]
    }
   ],
   "source": [
    "param_grid_gb = {\n",
    "    'gb__n_estimators': [100], \n",
    "    'gb__learning_rate': [0.05, 0.001],\n",
    "    'gb__max_depth': [7,9],\n",
    "    'gb__min_samples_split': [2],  \n",
    "    'gb__min_samples_leaf': [2,3,4,5], \n",
    "    'gb__subsample': [0.8, 1.0], \n",
    "    'gb__max_features': ['sqrt'] \n",
    "}\n",
    "\n",
    "gb = GradientBoostingClassifier(n_iter_no_change=5, validation_fraction=0.2, random_state=42)\n",
    "\n",
    "pipefinalgb = Pipeline(steps=[\n",
    "    ('feature_engineering', FeatureEngineetingTransformer()),\n",
    "    ('scaler', StandardScaler()),\n",
    "    ('gb', gb)\n",
    "])\n",
    "\n",
    "CV_gb = GridSearchCV(estimator=pipefinalgb, param_grid=param_grid_gb,  cv=StratifiedKFold(n_splits=3), n_jobs=-1, verbose=1)\n",
    "CV_gb.fit(X_train, y_train)\n",
    "\n",
    "print(CV_gb.best_params_)\n",
    "print(\"Training accuracy:\", CV_gb.score(X_train, y_train))\n",
    "print(\"Validation accuracy (Cross-Validation):\", CV_gb.best_score_)"
   ]
  },
  {
   "cell_type": "code",
   "execution_count": 10,
   "metadata": {},
   "outputs": [
    {
     "data": {
      "text/plain": [
       "array([0, 0, 0, ..., 0, 0, 1], dtype=int64)"
      ]
     },
     "execution_count": 10,
     "metadata": {},
     "output_type": "execute_result"
    }
   ],
   "source": [
    "test_predictions_gb = CV_gb.predict(X_test)\n",
    "test_predictions_gb"
   ]
  },
  {
   "cell_type": "code",
   "execution_count": 11,
   "metadata": {},
   "outputs": [
    {
     "name": "stdout",
     "output_type": "stream",
     "text": [
      "Fitting 3 folds for each of 9 candidates, totalling 27 fits\n",
      "{'rfc__bootstrap': True, 'rfc__class_weight': None, 'rfc__max_depth': None, 'rfc__max_features': 'sqrt', 'rfc__min_samples_leaf': 4, 'rfc__min_samples_split': 2, 'rfc__n_estimators': 2000}\n",
      "Training accuracy: 0.8928464780665469\n",
      "Validation accuracy (Cross-Validation): 0.8843139470924407\n"
     ]
    }
   ],
   "source": [
    "param_grid_rfc = {\n",
    "    'rfc__n_estimators': [2000],\n",
    "    'rfc__max_depth': [None],\n",
    "    'rfc__min_samples_split': [2],\n",
    "    'rfc__min_samples_leaf': [4],\n",
    "    'rfc__max_features': ['sqrt'],\n",
    "    'rfc__bootstrap': [True],\n",
    "    'rfc__class_weight': [None]\n",
    "}\n",
    "## {'rfc__n_estimators': 1000, 'rfc__min_samples_split': 2, 'rfc__min_samples_leaf': 4, 'rfc__max_features': 'sqrt', 'rfc__max_depth': None, 'rfc__class_weight': None, 'rfc__bootstrap': True}\n",
    "rfc = RandomForestClassifier()\n",
    "\n",
    "pipefinalrfc = Pipeline(steps=[\n",
    "    ('feature_engineering', FeatureEngineetingTransformer()),\n",
    "    ('scaler', StandardScaler()),\n",
    "    ('rfc', rfc)    \n",
    "])\n",
    "\n",
    "CV_rfc = GridSearchCV(estimator=pipefinalrfc, param_grid=param_grid_rfc,  cv=StratifiedKFold(n_splits=3), n_jobs=-1, verbose=1)\n",
    "CV_rfc.fit(X_train, y_train)\n",
    "train_score = CV_rfc.score(X_train, y_train)\n",
    "\n",
    "print(CV_rfc.best_params_)\n",
    "print(\"Training accuracy:\", train_score)\n",
    "print(\"Validation accuracy (Cross-Validation):\", CV_rfc.best_score_)"
   ]
  },
  {
   "cell_type": "code",
   "execution_count": 12,
   "metadata": {},
   "outputs": [
    {
     "data": {
      "text/plain": [
       "array([0, 0, 0, ..., 0, 0, 0], dtype=int64)"
      ]
     },
     "execution_count": 12,
     "metadata": {},
     "output_type": "execute_result"
    }
   ],
   "source": [
    "test_predictions_rfc = CV_rfc.predict(X_test)\n",
    "test_predictions_rfc"
   ]
  }
 ],
 "metadata": {
  "kernelspec": {
   "display_name": "Python 3",
   "language": "python",
   "name": "python3"
  },
  "language_info": {
   "codemirror_mode": {
    "name": "ipython",
    "version": 3
   },
   "file_extension": ".py",
   "mimetype": "text/x-python",
   "name": "python",
   "nbconvert_exporter": "python",
   "pygments_lexer": "ipython3",
   "version": "3.11.4"
  }
 },
 "nbformat": 4,
 "nbformat_minor": 2
}
